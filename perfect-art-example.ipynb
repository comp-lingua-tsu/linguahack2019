{
 "cells": [
  {
   "cell_type": "code",
   "execution_count": 1,
   "metadata": {},
   "outputs": [],
   "source": [
    "import pandas as pd\n",
    "import numpy as np\n",
    "import random"
   ]
  },
  {
   "cell_type": "code",
   "execution_count": 2,
   "metadata": {},
   "outputs": [],
   "source": [
    "import datetime"
   ]
  },
  {
   "cell_type": "code",
   "execution_count": 3,
   "metadata": {},
   "outputs": [],
   "source": [
    "import requests\n",
    "import json\n",
    "header = {'Content-Type': 'application/json', 'Accept': 'application/json'}"
   ]
  },
  {
   "cell_type": "markdown",
   "metadata": {},
   "source": [
    "### Авторизация доступа"
   ]
  },
  {
   "cell_type": "code",
   "execution_count": 4,
   "metadata": {},
   "outputs": [
    {
     "name": "stdout",
     "output_type": "stream",
     "text": [
      "Return Status:  500\n",
      "{\"error\": {\"message\": \"Unauthorized access\"}}\n"
     ]
    }
   ],
   "source": [
    "# Выполняется запрос с неверным ключем\n",
    "resp = requests.get(\"http://37.192.49.26:8085/train\", headers= header, data=json.dumps({\"key\":1313}))             \n",
    "print(\"Return Status: \", resp.status_code)\n",
    "print(resp.text)"
   ]
  },
  {
   "cell_type": "code",
   "execution_count": 5,
   "metadata": {},
   "outputs": [
    {
     "name": "stdout",
     "output_type": "stream",
     "text": [
      "Return Status:  200\n"
     ]
    },
    {
     "data": {
      "text/html": [
       "<div>\n",
       "<style scoped>\n",
       "    .dataframe tbody tr th:only-of-type {\n",
       "        vertical-align: middle;\n",
       "    }\n",
       "\n",
       "    .dataframe tbody tr th {\n",
       "        vertical-align: top;\n",
       "    }\n",
       "\n",
       "    .dataframe thead th {\n",
       "        text-align: right;\n",
       "    }\n",
       "</style>\n",
       "<table border=\"1\" class=\"dataframe\">\n",
       "  <thead>\n",
       "    <tr style=\"text-align: right;\">\n",
       "      <th></th>\n",
       "      <th>ID</th>\n",
       "      <th>applicability</th>\n",
       "      <th>sentiment</th>\n",
       "      <th>text</th>\n",
       "    </tr>\n",
       "  </thead>\n",
       "  <tbody>\n",
       "    <tr>\n",
       "      <th>0</th>\n",
       "      <td>0</td>\n",
       "      <td>1</td>\n",
       "      <td>1</td>\n",
       "      <td>I had the opportunity today to sample your ama...</td>\n",
       "    </tr>\n",
       "    <tr>\n",
       "      <th>1</th>\n",
       "      <td>1</td>\n",
       "      <td>1</td>\n",
       "      <td>1</td>\n",
       "      <td>If you are Razr owner...you must have this!</td>\n",
       "    </tr>\n",
       "    <tr>\n",
       "      <th>10</th>\n",
       "      <td>10</td>\n",
       "      <td>1</td>\n",
       "      <td>0</td>\n",
       "      <td>I was not happy with this item.</td>\n",
       "    </tr>\n",
       "    <tr>\n",
       "      <th>100</th>\n",
       "      <td>100</td>\n",
       "      <td>1</td>\n",
       "      <td>1</td>\n",
       "      <td>This is a great deal.</td>\n",
       "    </tr>\n",
       "    <tr>\n",
       "      <th>1000</th>\n",
       "      <td>1000</td>\n",
       "      <td>1</td>\n",
       "      <td>1</td>\n",
       "      <td>Bluetooth range is good - a few days ago I lef...</td>\n",
       "    </tr>\n",
       "  </tbody>\n",
       "</table>\n",
       "</div>"
      ],
      "text/plain": [
       "        ID  applicability  sentiment  \\\n",
       "0        0              1          1   \n",
       "1        1              1          1   \n",
       "10      10              1          0   \n",
       "100    100              1          1   \n",
       "1000  1000              1          1   \n",
       "\n",
       "                                                   text  \n",
       "0     I had the opportunity today to sample your ama...  \n",
       "1           If you are Razr owner...you must have this!  \n",
       "10                      I was not happy with this item.  \n",
       "100                               This is a great deal.  \n",
       "1000  Bluetooth range is good - a few days ago I lef...  "
      ]
     },
     "execution_count": 5,
     "metadata": {},
     "output_type": "execute_result"
    }
   ],
   "source": [
    "# Запрос с валидным ключем\n",
    "resp = requests.get(\"http://37.192.49.26:8085/train\", \n",
    "                    headers= header, \n",
    "                    data=json.dumps({\"key\":\"671EFAC4B8D59302\"}))             \n",
    "\n",
    "print(\"Return Status: \",resp.status_code)\n",
    "resp_dict = resp.json()\n",
    "df_data_train = pd.DataFrame(resp_dict.get(\"data\"))\n",
    "df_data_train.head()"
   ]
  },
  {
   "cell_type": "markdown",
   "metadata": {},
   "source": [
    "### Валидационный сэмпл"
   ]
  },
  {
   "cell_type": "code",
   "execution_count": 6,
   "metadata": {},
   "outputs": [
    {
     "name": "stdout",
     "output_type": "stream",
     "text": [
      "Return Status:  200\n"
     ]
    },
    {
     "data": {
      "text/html": [
       "<div>\n",
       "<style scoped>\n",
       "    .dataframe tbody tr th:only-of-type {\n",
       "        vertical-align: middle;\n",
       "    }\n",
       "\n",
       "    .dataframe tbody tr th {\n",
       "        vertical-align: top;\n",
       "    }\n",
       "\n",
       "    .dataframe thead th {\n",
       "        text-align: right;\n",
       "    }\n",
       "</style>\n",
       "<table border=\"1\" class=\"dataframe\">\n",
       "  <thead>\n",
       "    <tr style=\"text-align: right;\">\n",
       "      <th></th>\n",
       "      <th>ID</th>\n",
       "      <th>applicability</th>\n",
       "      <th>sentiment</th>\n",
       "      <th>text</th>\n",
       "    </tr>\n",
       "  </thead>\n",
       "  <tbody>\n",
       "    <tr>\n",
       "      <th>0</th>\n",
       "      <td>1923</td>\n",
       "      <td>NaN</td>\n",
       "      <td>NaN</td>\n",
       "      <td>NaN</td>\n",
       "    </tr>\n",
       "    <tr>\n",
       "      <th>1</th>\n",
       "      <td>1924</td>\n",
       "      <td>NaN</td>\n",
       "      <td>NaN</td>\n",
       "      <td>NaN</td>\n",
       "    </tr>\n",
       "    <tr>\n",
       "      <th>10</th>\n",
       "      <td>1933</td>\n",
       "      <td>NaN</td>\n",
       "      <td>NaN</td>\n",
       "      <td>NaN</td>\n",
       "    </tr>\n",
       "    <tr>\n",
       "      <th>100</th>\n",
       "      <td>2023</td>\n",
       "      <td>NaN</td>\n",
       "      <td>NaN</td>\n",
       "      <td>NaN</td>\n",
       "    </tr>\n",
       "    <tr>\n",
       "      <th>101</th>\n",
       "      <td>2024</td>\n",
       "      <td>NaN</td>\n",
       "      <td>NaN</td>\n",
       "      <td>NaN</td>\n",
       "    </tr>\n",
       "  </tbody>\n",
       "</table>\n",
       "</div>"
      ],
      "text/plain": [
       "       ID  applicability  sentiment  text\n",
       "0    1923            NaN        NaN   NaN\n",
       "1    1924            NaN        NaN   NaN\n",
       "10   1933            NaN        NaN   NaN\n",
       "100  2023            NaN        NaN   NaN\n",
       "101  2024            NaN        NaN   NaN"
      ]
     },
     "execution_count": 6,
     "metadata": {},
     "output_type": "execute_result"
    }
   ],
   "source": [
    "# Запрос с валидным ключем\n",
    "#  можно сделать не более одного зароса в минуту\n",
    "resp = requests.get(\"http://37.192.49.26:8085/valid_test\", \n",
    "                    headers= header, \n",
    "                    data=json.dumps({\"key\":\"671EFAC4B8D59302\"}))             \n",
    "\n",
    "print(\"Return Status: \",resp.status_code)\n",
    "resp_dict = resp.json()\n",
    "df_data_vlid = pd.DataFrame(resp_dict.get(\"data\"))\n",
    "df_data_vlid.head()"
   ]
  },
  {
   "cell_type": "markdown",
   "metadata": {},
   "source": [
    "### Проверка результатов"
   ]
  },
  {
   "cell_type": "code",
   "execution_count": 7,
   "metadata": {},
   "outputs": [
    {
     "name": "stdout",
     "output_type": "stream",
     "text": [
      "Return Status:  200\n"
     ]
    },
    {
     "data": {
      "text/plain": [
       "{'success': True,\n",
       " 'scores': {'score': 0.2543331473751033,\n",
       "  'f1_sent': 0.5154185022026431,\n",
       "  'f1_appl': 0.49344978165938863}}"
      ]
     },
     "execution_count": 7,
     "metadata": {},
     "output_type": "execute_result"
    }
   ],
   "source": [
    "# посмотрим как работает проверка результатов на валидационном сете\n",
    "random.seed(2018)\n",
    "df_data_vlid[\"sentiment\"] = [random.randint(0, 1) for i in range(df_data_vlid.shape[0])]\n",
    "df_data_vlid[\"applicability\"] = [random.randint(0, 1) for i in range(df_data_vlid.shape[0])]\n",
    "resp = requests.post(\"http://37.192.49.26:8085/valid_test\", \n",
    "                    headers= header, \n",
    "                    data=json.dumps({\"key\":\"671EFAC4B8D59302\", \"data\":df_data_vlid.to_dict()}))             \n",
    "\n",
    "print(\"Return Status: \",resp.status_code)\n",
    "resp.json()"
   ]
  },
  {
   "cell_type": "code",
   "execution_count": 8,
   "metadata": {},
   "outputs": [
    {
     "name": "stdout",
     "output_type": "stream",
     "text": [
      "Return Status:  200\n"
     ]
    },
    {
     "data": {
      "text/plain": [
       "{'success': True,\n",
       " 'scores': {'score': None, 'f1_sent': 0.5002552322613579, 'f1_appl': None}}"
      ]
     },
     "execution_count": 8,
     "metadata": {},
     "output_type": "execute_result"
    }
   ],
   "source": [
    "# посмотрим как работает проверка результатов на тренировочном сете\n",
    "random.seed(2018)\n",
    "df_data_train[\"sentiment\"] = [random.randint(0, 1) for i in range(df_data_train.shape[0])]\n",
    "df_data_train[\"applicability\"] = [random.randint(0, 1) for i in range(df_data_train.shape[0])]\n",
    "resp = requests.post(\"http://37.192.49.26:8085/train\", \n",
    "                    headers= header, \n",
    "                    data=json.dumps({\"key\":\"671EFAC4B8D59302\", \"data\":df_data_train.to_dict()}))\n",
    "print(\"Return Status: \",resp.status_code)\n",
    "resp.json()"
   ]
  },
  {
   "cell_type": "markdown",
   "metadata": {},
   "source": [
    "### Тестовые данные"
   ]
  },
  {
   "cell_type": "code",
   "execution_count": 9,
   "metadata": {},
   "outputs": [
    {
     "name": "stdout",
     "output_type": "stream",
     "text": [
      "Return Status:  200\n"
     ]
    },
    {
     "data": {
      "text/html": [
       "<div>\n",
       "<style scoped>\n",
       "    .dataframe tbody tr th:only-of-type {\n",
       "        vertical-align: middle;\n",
       "    }\n",
       "\n",
       "    .dataframe tbody tr th {\n",
       "        vertical-align: top;\n",
       "    }\n",
       "\n",
       "    .dataframe thead th {\n",
       "        text-align: right;\n",
       "    }\n",
       "</style>\n",
       "<table border=\"1\" class=\"dataframe\">\n",
       "  <thead>\n",
       "    <tr style=\"text-align: right;\">\n",
       "      <th></th>\n",
       "    </tr>\n",
       "  </thead>\n",
       "  <tbody>\n",
       "  </tbody>\n",
       "</table>\n",
       "</div>"
      ],
      "text/plain": [
       "Empty DataFrame\n",
       "Columns: []\n",
       "Index: []"
      ]
     },
     "execution_count": 9,
     "metadata": {},
     "output_type": "execute_result"
    }
   ],
   "source": [
    "# Запрос с валидным ключем\n",
    "#  можно сделать не более одного зароса в минуту\n",
    "resp = requests.get(\"http://37.192.49.26:8085/test\", \n",
    "                    headers= header, \n",
    "                    data=json.dumps({\"key\":\"671EFAC4B8D59302\"}))             \n",
    "\n",
    "print(\"Return Status: \",resp.status_code)\n",
    "resp_dict = resp.json()\n",
    "df_data_test = pd.DataFrame(resp_dict.get(\"data\"))\n",
    "df_data_test.head()"
   ]
  },
  {
   "cell_type": "code",
   "execution_count": 10,
   "metadata": {},
   "outputs": [
    {
     "name": "stdout",
     "output_type": "stream",
     "text": [
      "Return Status:  200\n",
      "{'success': True, 'message': 'Submission will be opened 2019-03-03 17:00:00, now 2019-03-01 17:04:17.294795'}\n"
     ]
    }
   ],
   "source": [
    "# Отрпавляем готовые резульаты на проверку\n",
    "random.seed(2018)\n",
    "df_data_test[\"sentiment\"] = [random.randint(0, 1) for i in range(df_data_test.shape[0])]\n",
    "df_data_test[\"applicability\"] = [random.randint(0, 1) for i in range(df_data_test.shape[0])]\n",
    "resp = requests.post(\"http://37.192.49.26:8085/test\", \n",
    "                    headers= header, \n",
    "                    data=json.dumps({\"key\":\"671EFAC4B8D59302\", \"data\":df_data_test.to_dict()}))             \n",
    "\n",
    "print(\"Return Status: \",resp.status_code)\n",
    "resp_dict = resp.json()\n",
    "print(resp_dict)"
   ]
  },
  {
   "cell_type": "code",
   "execution_count": null,
   "metadata": {},
   "outputs": [],
   "source": []
  }
 ],
 "metadata": {
  "kernelspec": {
   "display_name": "Python 3",
   "language": "python",
   "name": "python3"
  },
  "language_info": {
   "codemirror_mode": {
    "name": "ipython",
    "version": 3
   },
   "file_extension": ".py",
   "mimetype": "text/x-python",
   "name": "python",
   "nbconvert_exporter": "python",
   "pygments_lexer": "ipython3",
   "version": "3.6.5"
  }
 },
 "nbformat": 4,
 "nbformat_minor": 2
}
